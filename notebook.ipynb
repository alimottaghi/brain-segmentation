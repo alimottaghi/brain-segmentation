{
 "cells": [
  {
   "cell_type": "markdown",
   "metadata": {},
   "source": [
    "# Brain MRI Segmentation\n",
    "\n",
    "This notebook contains a simplistic code for barin MRI segmentation task. \n",
    "[The dataset](https://www.kaggle.com/mateuszbuda/lgg-mri-segmentation) that is used here contains only 110 patients and is obtained from The Cancer Genome Atlas (TCGA).\n",
    "Also, some parts of this code are building on top of [this notebook](https://www.kaggle.com/mateuszbuda/brain-segmentation-pytorch)."
   ]
  },
  {
   "cell_type": "code",
   "execution_count": null,
   "metadata": {},
   "outputs": [],
   "source": [
    "import os\n",
    "import logging\n",
    "import numpy as np\n",
    "import torch\n",
    "from torch.utils.data import DataLoader\n",
    "\n",
    "from datasets.brain_dataset import BrainSegmentationDataset\n",
    "from datasets.transforms import ToTensor, ToImage, get_transforms\n",
    "from models.unet import UNet\n",
    "from metrics.dice_loss import DiceLoss, dice_score\n",
    "from train import train_eval\n",
    "from evaluate import generate_outputs\n",
    "from utils.params import Params, synthesize_results\n",
    "from utils.logger import set_logger\n",
    "from utils.visualizer import plot_samples\n",
    "\n",
    "%matplotlib inline\n",
    "%load_ext tensorboard"
   ]
  },
  {
   "cell_type": "code",
   "execution_count": null,
   "metadata": {},
   "outputs": [],
   "source": [
    "dataset_dir = \"/pasteur/u/mottaghi/lgg-mri-segmentation/processed\"\n",
    "exp_dir = \"/pasteur/u/mottaghi/brain-segmentation\"\n",
    "base_params_path = \"base_params.json\"\n",
    "algorithm = \"semi-supervised\"\n",
    "run = \"run0\"\n",
    "restore = True\n",
    "\n",
    "model_dir = os.path.join(exp_dir, algorithm + \"_notebook_\" + run)\n",
    "os.makedirs(model_dir, exist_ok=True)\n",
    "params_path = os.path.join(model_dir, \"params.json\")\n",
    "if restore and os.path.exists(params_path):\n",
    "    params = Params(params_path)\n",
    "else:\n",
    "    params = Params(base_params_path)\n",
    "    params.save(params_path)\n",
    "params.model_dir = model_dir\n",
    "params.restore = restore\n",
    "params.device = torch.device(\"cuda:0\" if torch.cuda.is_available() else \"cpu\")\n",
    "\n",
    "set_logger(model_dir)"
   ]
  },
  {
   "cell_type": "code",
   "execution_count": null,
   "metadata": {},
   "outputs": [],
   "source": [
    "week_transforms = get_transforms(params, mode='week')\n",
    "strong_transforms = get_transforms(params, mode='strong')\n",
    "params.strong_transforms = strong_transforms\n",
    "totensor = ToTensor()\n",
    "toimage = ToImage()"
   ]
  },
  {
   "cell_type": "markdown",
   "metadata": {},
   "source": [
    "### Data"
   ]
  },
  {
   "cell_type": "code",
   "execution_count": null,
   "metadata": {},
   "outputs": [],
   "source": [
    "labeled_dataset = BrainSegmentationDataset(dataset_dir, subset=\"labeled\", transform=week_transforms, params=params)\n",
    "unlabeled_dataset = BrainSegmentationDataset(dataset_dir, subset=\"unlabeled\", transform=totensor, params=params)\n",
    "val_dataset = BrainSegmentationDataset(dataset_dir, subset=\"validation\", transform=totensor, params=params)"
   ]
  },
  {
   "cell_type": "code",
   "execution_count": null,
   "metadata": {},
   "outputs": [],
   "source": [
    "labeled_loader = DataLoader(labeled_dataset, batch_size=params.batch_size, shuffle=True, drop_last=True)\n",
    "unlabeled_loader = DataLoader(unlabeled_dataset, batch_size=params.batch_ratio*params.batch_size, shuffle=True, drop_last=True)\n",
    "val_loader = DataLoader(val_dataset, batch_size=params.batch_size, shuffle=True, drop_last=False)"
   ]
  },
  {
   "cell_type": "code",
   "execution_count": null,
   "metadata": {},
   "outputs": [],
   "source": [
    "rand_idx = np.random.choice(len(labeled_dataset), 5)\n",
    "samples = [toimage(labeled_dataset[idx]) for idx in rand_idx]\n",
    "plot_samples(samples)"
   ]
  },
  {
   "cell_type": "markdown",
   "metadata": {},
   "source": [
    "### Training"
   ]
  },
  {
   "cell_type": "code",
   "execution_count": null,
   "metadata": {},
   "outputs": [],
   "source": [
    "model = UNet(in_channels=3, out_channels=1)\n",
    "model.to(params.device)\n",
    "optimizer = torch.optim.Adam(model.parameters(), lr=params.learning_rate)\n",
    "loss_fn = DiceLoss()\n",
    "metrics = {'dice score': dice_score}"
   ]
  },
  {
   "cell_type": "code",
   "execution_count": null,
   "metadata": {},
   "outputs": [],
   "source": [
    "# logs_dir = os.path.join(params.model_dir, \"logs\")\n",
    "# %tensorboard --logdir {logs_dir} --host 0.0.0.0 --port 8818"
   ]
  },
  {
   "cell_type": "code",
   "execution_count": null,
   "metadata": {},
   "outputs": [],
   "source": [
    "train_eval(algorithm, model, optimizer, loss_fn, labeled_loader, unlabeled_loader, val_loader, metrics, params)"
   ]
  },
  {
   "cell_type": "markdown",
   "metadata": {},
   "source": [
    "### Evaluation"
   ]
  },
  {
   "cell_type": "code",
   "execution_count": null,
   "metadata": {},
   "outputs": [],
   "source": [
    "output_list = generate_outputs(model, val_loader, params, save=True)"
   ]
  },
  {
   "cell_type": "code",
   "execution_count": null,
   "metadata": {},
   "outputs": [],
   "source": [
    "rand_idx = np.random.choice(len(output_list), 5)\n",
    "samples = [output_list[idx] for idx in rand_idx]\n",
    "plot_samples(samples)"
   ]
  },
  {
   "cell_type": "code",
   "execution_count": null,
   "metadata": {},
   "outputs": [],
   "source": [
    "# synthesize_results(exp_dir)"
   ]
  },
  {
   "cell_type": "code",
   "execution_count": null,
   "metadata": {},
   "outputs": [],
   "source": []
  }
 ],
 "metadata": {
  "kernelspec": {
   "display_name": "Python 3",
   "language": "python",
   "name": "python3"
  },
  "language_info": {
   "codemirror_mode": {
    "name": "ipython",
    "version": 3
   },
   "file_extension": ".py",
   "mimetype": "text/x-python",
   "name": "python",
   "nbconvert_exporter": "python",
   "pygments_lexer": "ipython3",
   "version": "3.8.2"
  }
 },
 "nbformat": 4,
 "nbformat_minor": 4
}
